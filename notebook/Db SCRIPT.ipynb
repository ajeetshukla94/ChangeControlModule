{
 "cells": [
  {
   "cell_type": "code",
   "execution_count": 1,
   "id": "101e6877",
   "metadata": {},
   "outputs": [
    {
     "name": "stdout",
     "output_type": "stream",
     "text": [
      "Connection established\n"
     ]
    }
   ],
   "source": [
    "import mysql.connector\n",
    "from mysql.connector import errorcode\n",
    "\n",
    "# Obtain connection string information from the portal\n",
    "\n",
    "config = {\n",
    "  'host':\"pinpointserver.mysql.database.azure.com\",\n",
    "  'port':\"3306\",\n",
    "  'user':\"arissdb\",\n",
    "  'password':\"ppedbpass@12\",\n",
    "  'db':'ccndb'\n",
    "}\n",
    "\n",
    "# Construct connection string\n",
    "\n",
    "try:\n",
    "    conn = mysql.connector.connect(**config)\n",
    "    print(\"Connection established\")\n",
    "except mysql.connector.Error as err:\n",
    "    if err.errno == errorcode.ER_ACCESS_DENIED_ERROR:\n",
    "        print(\"Something is wrong with the user name or password\")\n",
    "    elif err.errno == errorcode.ER_BAD_DB_ERROR:\n",
    "        print(\"Database does not exist\")\n",
    "    else:\n",
    "        print(err)\n",
    "else:\n",
    "    cursor = conn.cursor()"
   ]
  },
  {
   "cell_type": "code",
   "execution_count": 2,
   "id": "7c4cb68e",
   "metadata": {},
   "outputs": [],
   "source": [
    "conn   = mysql.connector.connect(**config)\n",
    "cursor = conn.cursor()\n",
    "\n",
    "\n",
    "cursor.execute(\"\"\"\n",
    " create table ccndb.USERS \n",
    " (\n",
    " USERNAME varchar(255) NOT NULL PRIMARY KEY, \n",
    " FIRST_NAME varchar(255) NOT NULL,\n",
    " LAST_NAME varchar(255),\n",
    " USER_TYPE varchar(255) NOT NULL,\n",
    " PASSWORD varchar(255) NOT NULL,\n",
    " EMAILID varchar(255),\n",
    " MOBILE_NUMBER BigInt ,\n",
    " STATUS varchar(255) NOT NULL,\n",
    " LOCKED int default 0)\n",
    "\"\"\")\n",
    "conn.commit()"
   ]
  },
  {
   "cell_type": "code",
   "execution_count": 3,
   "id": "e7e71b41",
   "metadata": {},
   "outputs": [],
   "source": [
    "INSERT_USER_QUERY = \"\"\"INSERT INTO ccndb.USERS (\n",
    "    USERNAME ,\n",
    "    FIRST_NAME,\n",
    "    LAST_NAME,\n",
    "    USER_TYPE ,\n",
    "    PASSWORD, \n",
    "    EMAILID,\n",
    "    MOBILE_NUMBER,\n",
    "    STATUS,\n",
    "    LOCKED)\n",
    "    VALUES ( '{}','{}','{}','{}','{}','{}','{}','{}','{}')\"\"\".format(\n",
    "    \"ashukl94\",\"Ajeet\",\"Shukla\",\"admin\",\"password\",\"aajeetshk@gmail.com\",7507647076,\"ACTIVE\",0)\n",
    "conn = mysql.connector.connect(**config)\n",
    "cursor = conn.cursor()\n",
    "cursor.execute(INSERT_USER_QUERY)\n",
    "conn.commit()"
   ]
  },
  {
   "cell_type": "code",
   "execution_count": 4,
   "id": "70132a0c",
   "metadata": {},
   "outputs": [
    {
     "name": "stdout",
     "output_type": "stream",
     "text": [
      "('ashukl94', 'Ajeet', 'Shukla', 'admin', 'password', 'aajeetshk@gmail.com', 7507647076, 'ACTIVE', 0)\n"
     ]
    }
   ],
   "source": [
    "conn = mysql.connector.connect(**config)\n",
    "cursor = conn.cursor()\n",
    "cursor.execute(\"select * from ccndb.USERS\")\n",
    "\n",
    "for row in cursor:\n",
    "    print(row)"
   ]
  },
  {
   "cell_type": "code",
   "execution_count": null,
   "id": "c4a2e5a2",
   "metadata": {},
   "outputs": [],
   "source": []
  }
 ],
 "metadata": {
  "kernelspec": {
   "display_name": "Python 3 (ipykernel)",
   "language": "python",
   "name": "python3"
  },
  "language_info": {
   "codemirror_mode": {
    "name": "ipython",
    "version": 3
   },
   "file_extension": ".py",
   "mimetype": "text/x-python",
   "name": "python",
   "nbconvert_exporter": "python",
   "pygments_lexer": "ipython3",
   "version": "3.11.3"
  }
 },
 "nbformat": 4,
 "nbformat_minor": 5
}
