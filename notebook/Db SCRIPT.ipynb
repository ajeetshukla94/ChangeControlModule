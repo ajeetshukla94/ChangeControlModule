{
 "cells": [
  {
   "cell_type": "code",
   "execution_count": 1,
   "id": "390e5a43",
   "metadata": {},
   "outputs": [
    {
     "name": "stdout",
     "output_type": "stream",
     "text": [
      "Connection established\n"
     ]
    }
   ],
   "source": [
    "import mysql.connector\n",
    "from mysql.connector import errorcode\n",
    "\n",
    "# Obtain connection string information from the portal\n",
    "\n",
    "config = {\n",
    "  'host':\"pinpointserver.mysql.database.azure.com\",\n",
    "  'port':\"3306\",\n",
    "  'user':\"arissdb\",\n",
    "  'password':\"ppedbpass@12\",\n",
    "  'db':'ccndb'\n",
    "}\n",
    "\n",
    "# Construct connection string\n",
    "\n",
    "try:\n",
    "    conn = mysql.connector.connect(**config)\n",
    "    print(\"Connection established\")\n",
    "except mysql.connector.Error as err:\n",
    "    if err.errno == errorcode.ER_ACCESS_DENIED_ERROR:\n",
    "        print(\"Something is wrong with the user name or password\")\n",
    "    elif err.errno == errorcode.ER_BAD_DB_ERROR:\n",
    "        print(\"Database does not exist\")\n",
    "    else:\n",
    "        print(err)\n",
    "else:\n",
    "    cursor = conn.cursor()"
   ]
  },
  {
   "cell_type": "code",
   "execution_count": 7,
   "id": "fb12a45d",
   "metadata": {},
   "outputs": [],
   "source": [
    "conn   = mysql.connector.connect(**config)\n",
    "cursor = conn.cursor()\n",
    "\n",
    "cursor.execute(\"\"\" drop table ccndb.USERS \"\"\")\n",
    "conn.commit()\n",
    "cursor.execute(\"\"\"\n",
    " create table ccndb.USERS \n",
    " (\n",
    " USERNAME varchar(255) NOT NULL PRIMARY KEY, \n",
    " FIRST_NAME varchar(255) NOT NULL,\n",
    " LAST_NAME varchar(255),\n",
    " USER_DEPARTMENT varchar(255) NOT NULL,\n",
    " USER_LEVEL varchar(255) NOT NULL,\n",
    " PASSWORD varchar(255) NOT NULL,\n",
    " EMAILID varchar(255),\n",
    " STATUS varchar(255) NOT NULL,\n",
    " LOCKED int default 0)\n",
    "\"\"\")\n",
    "conn.commit()"
   ]
  },
  {
   "cell_type": "code",
   "execution_count": 9,
   "id": "29953a13",
   "metadata": {},
   "outputs": [],
   "source": [
    "##user Department\n",
    "department_list = ['Production','QC','QA','Store','Engineering','HR','Admin']\n",
    "\n",
    "level_list      = [\"L1\",\"L2\",\"L3\",\"L4\",\"L5\",\"L6\",\"hod\"]\n",
    "\n",
    "for department in department_list:\n",
    "    for level in level_list:\n",
    "        \n",
    "        INSERT_USER_QUERY = \"\"\"INSERT INTO ccndb.USERS (\n",
    "            USERNAME ,FIRST_NAME,LAST_NAME,\n",
    "            USER_DEPARTMENT ,USER_LEVEL, PASSWORD, \n",
    "            EMAILID,STATUS,LOCKED)\n",
    "            VALUES ( '{}','{}','{}','{}','{}','{}','{}','{}','{}')\"\"\".format(\n",
    "            department.lower()+\"_\"+level.lower(),\"abc\",\"def\",department,level,\"password\",\"abc@gmail.com\",\"ACTIVE\",0)\n",
    "        conn = mysql.connector.connect(**config)\n",
    "        cursor = conn.cursor()\n",
    "        cursor.execute(INSERT_USER_QUERY)\n",
    "        conn.commit()"
   ]
  },
  {
   "cell_type": "code",
   "execution_count": 10,
   "id": "a9bd7711",
   "metadata": {},
   "outputs": [
    {
     "name": "stdout",
     "output_type": "stream",
     "text": [
      "('admin_hod', 'abc', 'def', 'Admin', 'hod', 'password', 'abc@gmail.com', 'ACTIVE', 0)\n",
      "('admin_l1', 'abc', 'def', 'Admin', 'L1', 'password', 'abc@gmail.com', 'ACTIVE', 0)\n",
      "('admin_l2', 'abc', 'def', 'Admin', 'L2', 'password', 'abc@gmail.com', 'ACTIVE', 0)\n",
      "('admin_l3', 'abc', 'def', 'Admin', 'L3', 'password', 'abc@gmail.com', 'ACTIVE', 0)\n",
      "('admin_l4', 'abc', 'def', 'Admin', 'L4', 'password', 'abc@gmail.com', 'ACTIVE', 0)\n",
      "('admin_l5', 'abc', 'def', 'Admin', 'L5', 'password', 'abc@gmail.com', 'ACTIVE', 0)\n",
      "('admin_l6', 'abc', 'def', 'Admin', 'L6', 'password', 'abc@gmail.com', 'ACTIVE', 0)\n",
      "('engineering_hod', 'abc', 'def', 'Engineering', 'hod', 'password', 'abc@gmail.com', 'ACTIVE', 0)\n",
      "('engineering_l1', 'abc', 'def', 'Engineering', 'L1', 'password', 'abc@gmail.com', 'ACTIVE', 0)\n",
      "('engineering_l2', 'abc', 'def', 'Engineering', 'L2', 'password', 'abc@gmail.com', 'ACTIVE', 0)\n",
      "('engineering_l3', 'abc', 'def', 'Engineering', 'L3', 'password', 'abc@gmail.com', 'ACTIVE', 0)\n",
      "('engineering_l4', 'abc', 'def', 'Engineering', 'L4', 'password', 'abc@gmail.com', 'ACTIVE', 0)\n",
      "('engineering_l5', 'abc', 'def', 'Engineering', 'L5', 'password', 'abc@gmail.com', 'ACTIVE', 0)\n",
      "('engineering_l6', 'abc', 'def', 'Engineering', 'L6', 'password', 'abc@gmail.com', 'ACTIVE', 0)\n",
      "('hr_hod', 'abc', 'def', 'HR', 'hod', 'password', 'abc@gmail.com', 'ACTIVE', 0)\n",
      "('hr_l1', 'abc', 'def', 'HR', 'L1', 'password', 'abc@gmail.com', 'ACTIVE', 0)\n",
      "('hr_l2', 'abc', 'def', 'HR', 'L2', 'password', 'abc@gmail.com', 'ACTIVE', 0)\n",
      "('hr_l3', 'abc', 'def', 'HR', 'L3', 'password', 'abc@gmail.com', 'ACTIVE', 0)\n",
      "('hr_l4', 'abc', 'def', 'HR', 'L4', 'password', 'abc@gmail.com', 'ACTIVE', 0)\n",
      "('hr_l5', 'abc', 'def', 'HR', 'L5', 'password', 'abc@gmail.com', 'ACTIVE', 0)\n",
      "('hr_l6', 'abc', 'def', 'HR', 'L6', 'password', 'abc@gmail.com', 'ACTIVE', 0)\n",
      "('production_hod', 'abc', 'def', 'Production', 'hod', 'password', 'abc@gmail.com', 'ACTIVE', 0)\n",
      "('production_l1', 'abc', 'def', 'Production', 'L1', 'password', 'abc@gmail.com', 'ACTIVE', 0)\n",
      "('production_l2', 'abc', 'def', 'Production', 'L2', 'password', 'abc@gmail.com', 'ACTIVE', 0)\n",
      "('production_l3', 'abc', 'def', 'Production', 'L3', 'password', 'abc@gmail.com', 'ACTIVE', 0)\n",
      "('production_l4', 'abc', 'def', 'Production', 'L4', 'password', 'abc@gmail.com', 'ACTIVE', 0)\n",
      "('production_l5', 'abc', 'def', 'Production', 'L5', 'password', 'abc@gmail.com', 'ACTIVE', 0)\n",
      "('production_l6', 'abc', 'def', 'Production', 'L6', 'password', 'abc@gmail.com', 'ACTIVE', 0)\n",
      "('qa_hod', 'abc', 'def', 'QA', 'hod', 'password', 'abc@gmail.com', 'ACTIVE', 0)\n",
      "('qa_l1', 'abc', 'def', 'QA', 'L1', 'password', 'abc@gmail.com', 'ACTIVE', 0)\n",
      "('qa_l2', 'abc', 'def', 'QA', 'L2', 'password', 'abc@gmail.com', 'ACTIVE', 0)\n",
      "('qa_l3', 'abc', 'def', 'QA', 'L3', 'password', 'abc@gmail.com', 'ACTIVE', 0)\n",
      "('qa_l4', 'abc', 'def', 'QA', 'L4', 'password', 'abc@gmail.com', 'ACTIVE', 0)\n",
      "('qa_l5', 'abc', 'def', 'QA', 'L5', 'password', 'abc@gmail.com', 'ACTIVE', 0)\n",
      "('qa_l6', 'abc', 'def', 'QA', 'L6', 'password', 'abc@gmail.com', 'ACTIVE', 0)\n",
      "('qc_hod', 'abc', 'def', 'QC', 'hod', 'password', 'abc@gmail.com', 'ACTIVE', 0)\n",
      "('qc_l1', 'abc', 'def', 'QC', 'L1', 'password', 'abc@gmail.com', 'ACTIVE', 0)\n",
      "('qc_l2', 'abc', 'def', 'QC', 'L2', 'password', 'abc@gmail.com', 'ACTIVE', 0)\n",
      "('qc_l3', 'abc', 'def', 'QC', 'L3', 'password', 'abc@gmail.com', 'ACTIVE', 0)\n",
      "('qc_l4', 'abc', 'def', 'QC', 'L4', 'password', 'abc@gmail.com', 'ACTIVE', 0)\n",
      "('qc_l5', 'abc', 'def', 'QC', 'L5', 'password', 'abc@gmail.com', 'ACTIVE', 0)\n",
      "('qc_l6', 'abc', 'def', 'QC', 'L6', 'password', 'abc@gmail.com', 'ACTIVE', 0)\n",
      "('store_hod', 'abc', 'def', 'Store', 'hod', 'password', 'abc@gmail.com', 'ACTIVE', 0)\n",
      "('store_l1', 'abc', 'def', 'Store', 'L1', 'password', 'abc@gmail.com', 'ACTIVE', 0)\n",
      "('store_l2', 'abc', 'def', 'Store', 'L2', 'password', 'abc@gmail.com', 'ACTIVE', 0)\n",
      "('store_l3', 'abc', 'def', 'Store', 'L3', 'password', 'abc@gmail.com', 'ACTIVE', 0)\n",
      "('store_l4', 'abc', 'def', 'Store', 'L4', 'password', 'abc@gmail.com', 'ACTIVE', 0)\n",
      "('store_l5', 'abc', 'def', 'Store', 'L5', 'password', 'abc@gmail.com', 'ACTIVE', 0)\n",
      "('store_l6', 'abc', 'def', 'Store', 'L6', 'password', 'abc@gmail.com', 'ACTIVE', 0)\n"
     ]
    }
   ],
   "source": [
    "conn = mysql.connector.connect(**config)\n",
    "cursor = conn.cursor()\n",
    "cursor.execute(\"select * from ccndb.USERS\")\n",
    "\n",
    "for row in cursor:\n",
    "    print(row)"
   ]
  },
  {
   "cell_type": "code",
   "execution_count": null,
   "id": "84490486",
   "metadata": {},
   "outputs": [],
   "source": []
  },
  {
   "cell_type": "code",
   "execution_count": 5,
   "id": "b9e70aff",
   "metadata": {},
   "outputs": [
    {
     "ename": "ProgrammingError",
     "evalue": "1064 (42000): You have an error in your SQL syntax; check the manual that corresponds to your MySQL server version for the right syntax to use near '=100, \n Area_of_Change varchar(255) NOT NULL,\n Affects_Initiator_Department varc' at line 3",
     "output_type": "error",
     "traceback": [
      "\u001b[1;31m---------------------------------------------------------------------------\u001b[0m",
      "\u001b[1;31mMySQLInterfaceError\u001b[0m                       Traceback (most recent call last)",
      "File \u001b[1;32m~\\anaconda3\\Lib\\site-packages\\mysql\\connector\\connection_cext.py:611\u001b[0m, in \u001b[0;36mCMySQLConnection.cmd_query\u001b[1;34m(self, query, raw, buffered, raw_as_string)\u001b[0m\n\u001b[0;32m    610\u001b[0m         query \u001b[38;5;241m=\u001b[39m query\u001b[38;5;241m.\u001b[39mencode(\u001b[38;5;124m\"\u001b[39m\u001b[38;5;124mutf-8\u001b[39m\u001b[38;5;124m\"\u001b[39m)\n\u001b[1;32m--> 611\u001b[0m     \u001b[38;5;28mself\u001b[39m\u001b[38;5;241m.\u001b[39m_cmysql\u001b[38;5;241m.\u001b[39mquery(\n\u001b[0;32m    612\u001b[0m         query,\n\u001b[0;32m    613\u001b[0m         raw\u001b[38;5;241m=\u001b[39mraw,\n\u001b[0;32m    614\u001b[0m         buffered\u001b[38;5;241m=\u001b[39mbuffered,\n\u001b[0;32m    615\u001b[0m         raw_as_string\u001b[38;5;241m=\u001b[39mraw_as_string,\n\u001b[0;32m    616\u001b[0m         query_attrs\u001b[38;5;241m=\u001b[39m\u001b[38;5;28mself\u001b[39m\u001b[38;5;241m.\u001b[39m_query_attrs,\n\u001b[0;32m    617\u001b[0m     )\n\u001b[0;32m    618\u001b[0m \u001b[38;5;28;01mexcept\u001b[39;00m MySQLInterfaceError \u001b[38;5;28;01mas\u001b[39;00m err:\n",
      "\u001b[1;31mMySQLInterfaceError\u001b[0m: You have an error in your SQL syntax; check the manual that corresponds to your MySQL server version for the right syntax to use near '=100, \n Area_of_Change varchar(255) NOT NULL,\n Affects_Initiator_Department varc' at line 3",
      "\nThe above exception was the direct cause of the following exception:\n",
      "\u001b[1;31mProgrammingError\u001b[0m                          Traceback (most recent call last)",
      "Cell \u001b[1;32mIn[5], line 5\u001b[0m\n\u001b[0;32m      1\u001b[0m conn   \u001b[38;5;241m=\u001b[39m mysql\u001b[38;5;241m.\u001b[39mconnector\u001b[38;5;241m.\u001b[39mconnect(\u001b[38;5;241m*\u001b[39m\u001b[38;5;241m*\u001b[39mconfig)\n\u001b[0;32m      2\u001b[0m cursor \u001b[38;5;241m=\u001b[39m conn\u001b[38;5;241m.\u001b[39mcursor()\n\u001b[1;32m----> 5\u001b[0m cursor\u001b[38;5;241m.\u001b[39mexecute(\u001b[38;5;124m\"\"\"\u001b[39m\n\u001b[0;32m      6\u001b[0m \u001b[38;5;124m create table ccndb.change_control_master \u001b[39m\n\u001b[0;32m      7\u001b[0m \u001b[38;5;124m (\u001b[39m\n\u001b[0;32m      8\u001b[0m \u001b[38;5;124m Application_id int NOT NULL AUTO_INCREMENT=100, \u001b[39m\n\u001b[0;32m      9\u001b[0m \u001b[38;5;124m Area_of_Change varchar(255) NOT NULL,\u001b[39m\n\u001b[0;32m     10\u001b[0m \u001b[38;5;124m Affects_Initiator_Department varchar(255) NOT NULL,\u001b[39m\n\u001b[0;32m     11\u001b[0m \u001b[38;5;124m Change_Description varchar(255) NOT NULL,\u001b[39m\n\u001b[0;32m     12\u001b[0m \u001b[38;5;124m Existing_Status varchar(255) NOT NULL,\u001b[39m\n\u001b[0;32m     13\u001b[0m \u001b[38;5;124m Proposed_Change varchar(255) NOT NULL,\u001b[39m\n\u001b[0;32m     14\u001b[0m \u001b[38;5;124m Change_Reason varchar(255) NOT NULL,\u001b[39m\n\u001b[0;32m     15\u001b[0m \u001b[38;5;124m Application_Status varchar(255) NOT NULL,\u001b[39m\n\u001b[0;32m     16\u001b[0m \u001b[38;5;124m Change_Control_id varchar(255) NOT NULL,\u001b[39m\n\u001b[0;32m     17\u001b[0m \u001b[38;5;124m PRIMARY KEY (Application_id)\u001b[39m\n\u001b[0;32m     18\u001b[0m \u001b[38;5;124m)\u001b[39m\n\u001b[0;32m     19\u001b[0m \u001b[38;5;124m\"\"\"\u001b[39m)\n\u001b[0;32m     20\u001b[0m conn\u001b[38;5;241m.\u001b[39mcommit()\n",
      "File \u001b[1;32m~\\anaconda3\\Lib\\site-packages\\mysql\\connector\\cursor_cext.py:330\u001b[0m, in \u001b[0;36mCMySQLCursor.execute\u001b[1;34m(self, operation, params, multi)\u001b[0m\n\u001b[0;32m    325\u001b[0m             \u001b[38;5;28;01mraise\u001b[39;00m ProgrammingError(\n\u001b[0;32m    326\u001b[0m                 \u001b[38;5;124m\"\u001b[39m\u001b[38;5;124mNot all parameters were used in the SQL statement\u001b[39m\u001b[38;5;124m\"\u001b[39m\n\u001b[0;32m    327\u001b[0m             )\n\u001b[0;32m    329\u001b[0m \u001b[38;5;28;01mtry\u001b[39;00m:\n\u001b[1;32m--> 330\u001b[0m     result \u001b[38;5;241m=\u001b[39m \u001b[38;5;28mself\u001b[39m\u001b[38;5;241m.\u001b[39m_cnx\u001b[38;5;241m.\u001b[39mcmd_query(\n\u001b[0;32m    331\u001b[0m         stmt,\n\u001b[0;32m    332\u001b[0m         raw\u001b[38;5;241m=\u001b[39m\u001b[38;5;28mself\u001b[39m\u001b[38;5;241m.\u001b[39m_raw,\n\u001b[0;32m    333\u001b[0m         buffered\u001b[38;5;241m=\u001b[39m\u001b[38;5;28mself\u001b[39m\u001b[38;5;241m.\u001b[39m_buffered,\n\u001b[0;32m    334\u001b[0m         raw_as_string\u001b[38;5;241m=\u001b[39m\u001b[38;5;28mself\u001b[39m\u001b[38;5;241m.\u001b[39m_raw_as_string,\n\u001b[0;32m    335\u001b[0m     )\n\u001b[0;32m    336\u001b[0m \u001b[38;5;28;01mexcept\u001b[39;00m MySQLInterfaceError \u001b[38;5;28;01mas\u001b[39;00m err:\n\u001b[0;32m    337\u001b[0m     \u001b[38;5;28;01mraise\u001b[39;00m get_mysql_exception(\n\u001b[0;32m    338\u001b[0m         msg\u001b[38;5;241m=\u001b[39merr\u001b[38;5;241m.\u001b[39mmsg, errno\u001b[38;5;241m=\u001b[39merr\u001b[38;5;241m.\u001b[39merrno, sqlstate\u001b[38;5;241m=\u001b[39merr\u001b[38;5;241m.\u001b[39msqlstate\n\u001b[0;32m    339\u001b[0m     ) \u001b[38;5;28;01mfrom\u001b[39;00m \u001b[38;5;21;01merr\u001b[39;00m\n",
      "File \u001b[1;32m~\\anaconda3\\Lib\\site-packages\\mysql\\connector\\connection_cext.py:619\u001b[0m, in \u001b[0;36mCMySQLConnection.cmd_query\u001b[1;34m(self, query, raw, buffered, raw_as_string)\u001b[0m\n\u001b[0;32m    611\u001b[0m     \u001b[38;5;28mself\u001b[39m\u001b[38;5;241m.\u001b[39m_cmysql\u001b[38;5;241m.\u001b[39mquery(\n\u001b[0;32m    612\u001b[0m         query,\n\u001b[0;32m    613\u001b[0m         raw\u001b[38;5;241m=\u001b[39mraw,\n\u001b[1;32m   (...)\u001b[0m\n\u001b[0;32m    616\u001b[0m         query_attrs\u001b[38;5;241m=\u001b[39m\u001b[38;5;28mself\u001b[39m\u001b[38;5;241m.\u001b[39m_query_attrs,\n\u001b[0;32m    617\u001b[0m     )\n\u001b[0;32m    618\u001b[0m \u001b[38;5;28;01mexcept\u001b[39;00m MySQLInterfaceError \u001b[38;5;28;01mas\u001b[39;00m err:\n\u001b[1;32m--> 619\u001b[0m     \u001b[38;5;28;01mraise\u001b[39;00m get_mysql_exception(\n\u001b[0;32m    620\u001b[0m         err\u001b[38;5;241m.\u001b[39merrno, msg\u001b[38;5;241m=\u001b[39merr\u001b[38;5;241m.\u001b[39mmsg, sqlstate\u001b[38;5;241m=\u001b[39merr\u001b[38;5;241m.\u001b[39msqlstate\n\u001b[0;32m    621\u001b[0m     ) \u001b[38;5;28;01mfrom\u001b[39;00m \u001b[38;5;21;01merr\u001b[39;00m\n\u001b[0;32m    622\u001b[0m \u001b[38;5;28;01mexcept\u001b[39;00m \u001b[38;5;167;01mAttributeError\u001b[39;00m \u001b[38;5;28;01mas\u001b[39;00m err:\n\u001b[0;32m    623\u001b[0m     addr \u001b[38;5;241m=\u001b[39m (\n\u001b[0;32m    624\u001b[0m         \u001b[38;5;28mself\u001b[39m\u001b[38;5;241m.\u001b[39m_unix_socket \u001b[38;5;28;01mif\u001b[39;00m \u001b[38;5;28mself\u001b[39m\u001b[38;5;241m.\u001b[39m_unix_socket \u001b[38;5;28;01melse\u001b[39;00m \u001b[38;5;124mf\u001b[39m\u001b[38;5;124m\"\u001b[39m\u001b[38;5;132;01m{\u001b[39;00m\u001b[38;5;28mself\u001b[39m\u001b[38;5;241m.\u001b[39m_host\u001b[38;5;132;01m}\u001b[39;00m\u001b[38;5;124m:\u001b[39m\u001b[38;5;132;01m{\u001b[39;00m\u001b[38;5;28mself\u001b[39m\u001b[38;5;241m.\u001b[39m_port\u001b[38;5;132;01m}\u001b[39;00m\u001b[38;5;124m\"\u001b[39m\n\u001b[0;32m    625\u001b[0m     )\n",
      "\u001b[1;31mProgrammingError\u001b[0m: 1064 (42000): You have an error in your SQL syntax; check the manual that corresponds to your MySQL server version for the right syntax to use near '=100, \n Area_of_Change varchar(255) NOT NULL,\n Affects_Initiator_Department varc' at line 3"
     ]
    }
   ],
   "source": [
    "conn   = mysql.connector.connect(**config)\n",
    "cursor = conn.cursor()\n",
    "\n",
    "\n",
    "cursor.execute(\"\"\"\n",
    " create table ccndb.change_control_master \n",
    " (\n",
    " Application_id int NOT NULL AUTO_INCREMENT=100, \n",
    " Area_of_Change varchar(255) NOT NULL,\n",
    " Affects_Initiator_Department varchar(255) NOT NULL,\n",
    " Change_Description varchar(255) NOT NULL,\n",
    " Existing_Status varchar(255) NOT NULL,\n",
    " Proposed_Change varchar(255) NOT NULL,\n",
    " Change_Reason varchar(255) NOT NULL,\n",
    " Application_Status varchar(255) NOT NULL, \n",
    " Change_Control_id varchar(255) NOT NULL,\n",
    " PRIMARY KEY (Application_id)\n",
    ")\n",
    "\"\"\")\n",
    "conn.commit()"
   ]
  },
  {
   "cell_type": "code",
   "execution_count": null,
   "id": "6bc80231",
   "metadata": {},
   "outputs": [],
   "source": []
  }
 ],
 "metadata": {
  "kernelspec": {
   "display_name": "Python 3 (ipykernel)",
   "language": "python",
   "name": "python3"
  },
  "language_info": {
   "codemirror_mode": {
    "name": "ipython",
    "version": 3
   },
   "file_extension": ".py",
   "mimetype": "text/x-python",
   "name": "python",
   "nbconvert_exporter": "python",
   "pygments_lexer": "ipython3",
   "version": "3.11.3"
  }
 },
 "nbformat": 4,
 "nbformat_minor": 5
}
