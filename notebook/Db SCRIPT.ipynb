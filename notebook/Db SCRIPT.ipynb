{
 "cells": [
  {
   "cell_type": "code",
   "execution_count": null,
   "id": "390e5a43",
   "metadata": {},
   "outputs": [],
   "source": [
    "import mysql.connector\n",
    "from mysql.connector import errorcode\n",
    "\n",
    "# Obtain connection string information from the portal\n",
    "\n",
    "config = {\n",
    "  'host':\"pinpointserver.mysql.database.azure.com\",\n",
    "  'port':\"3306\",\n",
    "  'user':\"arissdb\",\n",
    "  'password':\"ppedbpass@12\",\n",
    "  'db':'ccndb',\n",
    "}\n",
    "\n",
    "# Construct connection string\n",
    "\n",
    "try:\n",
    "    conn = mysql.connector.connect(**config)\n",
    "    print(\"Connection established\")\n",
    "except mysql.connector.Error as err:\n",
    "    if err.errno == errorcode.ER_ACCESS_DENIED_ERROR:\n",
    "        print(\"Something is wrong with the user name or password\")\n",
    "    elif err.errno == errorcode.ER_BAD_DB_ERROR:\n",
    "        print(\"Database does not exist\")\n",
    "    else:\n",
    "        print(err)\n",
    "else:\n",
    "    cursor = conn.cursor()"
   ]
  },
  {
   "cell_type": "code",
   "execution_count": null,
   "id": "fb12a45d",
   "metadata": {},
   "outputs": [],
   "source": [
    "conn   = mysql.connector.connect(**config)\n",
    "cursor = conn.cursor()\n",
    "\n",
    "cursor.execute(\"\"\" drop table ccndb.USERS \"\"\")\n",
    "conn.commit()\n",
    "cursor.execute(\"\"\"\n",
    " create table ccndb.USERS \n",
    " (\n",
    " USERNAME varchar(255) NOT NULL PRIMARY KEY, \n",
    " FIRST_NAME varchar(255) NOT NULL,\n",
    " LAST_NAME varchar(255),\n",
    " USER_DEPARTMENT varchar(255) NOT NULL,\n",
    " USER_LEVEL varchar(255) NOT NULL,\n",
    " PASSWORD varchar(255) NOT NULL,\n",
    " EMAILID varchar(255),\n",
    " STATUS varchar(255) NOT NULL,\n",
    " LOCKED int default 0)\n",
    "\"\"\")\n",
    "conn.commit()"
   ]
  },
  {
   "cell_type": "code",
   "execution_count": null,
   "id": "29953a13",
   "metadata": {},
   "outputs": [],
   "source": [
    "##user Department\n",
    "department_list = ['Production','QC','QA','Store','Engineering','HR','Admin']\n",
    "\n",
    "level_list      = [\"L1\",\"L2\",\"L3\",\"L4\",\"L5\",\"L6\",\"hod\"]\n",
    "\n",
    "for department in department_list:\n",
    "    for level in level_list:\n",
    "        \n",
    "        INSERT_USER_QUERY = \"\"\"INSERT INTO ccndb.USERS (\n",
    "            USERNAME ,FIRST_NAME,LAST_NAME,\n",
    "            USER_DEPARTMENT ,USER_LEVEL, PASSWORD, \n",
    "            EMAILID,STATUS,LOCKED)\n",
    "            VALUES ( '{}','{}','{}','{}','{}','{}','{}','{}','{}')\"\"\".format(\n",
    "            department.lower()+\"_\"+level.lower(),\"abc\",\"def\",department,level,\"password\",\"abc@gmail.com\",\"ACTIVE\",0)\n",
    "        conn = mysql.connector.connect(**config)\n",
    "        cursor = conn.cursor()\n",
    "        cursor.execute(INSERT_USER_QUERY)\n",
    "        conn.commit()"
   ]
  },
  {
   "cell_type": "code",
   "execution_count": 20,
   "id": "a9bd7711",
   "metadata": {},
   "outputs": [
    {
     "name": "stdout",
     "output_type": "stream",
     "text": [
      "('admin_hod', 'abc', 'def', 'Admin', 'hod', 'password', 'abc@gmail.com', 'ACTIVE', 0)\n",
      "('admin_l1', 'abc', 'def', 'Admin', 'L1', 'password', 'abc@gmail.com', 'ACTIVE', 0)\n",
      "('admin_l2', 'abc', 'def', 'Admin', 'L2', 'password', 'abc@gmail.com', 'ACTIVE', 0)\n",
      "('admin_l3', 'abc', 'def', 'Admin', 'L3', 'password', 'abc@gmail.com', 'ACTIVE', 0)\n",
      "('admin_l4', 'abc', 'def', 'Admin', 'L4', 'password', 'abc@gmail.com', 'ACTIVE', 0)\n",
      "('admin_l5', 'abc', 'def', 'Admin', 'L5', 'password', 'abc@gmail.com', 'ACTIVE', 0)\n",
      "('admin_l6', 'abc', 'def', 'Admin', 'L6', 'password', 'abc@gmail.com', 'ACTIVE', 0)\n",
      "('engineering_hod', 'abc', 'def', 'Engineering', 'hod', 'password', 'abc@gmail.com', 'ACTIVE', 0)\n",
      "('engineering_l1', 'abc', 'def', 'Engineering', 'L1', 'password', 'abc@gmail.com', 'ACTIVE', 0)\n",
      "('engineering_l2', 'abc', 'def', 'Engineering', 'L2', 'password', 'abc@gmail.com', 'ACTIVE', 0)\n",
      "('engineering_l3', 'abc', 'def', 'Engineering', 'L3', 'password', 'abc@gmail.com', 'ACTIVE', 0)\n",
      "('engineering_l4', 'abc', 'def', 'Engineering', 'L4', 'password', 'abc@gmail.com', 'ACTIVE', 0)\n",
      "('engineering_l5', 'abc', 'def', 'Engineering', 'L5', 'password', 'abc@gmail.com', 'ACTIVE', 0)\n",
      "('engineering_l6', 'abc', 'def', 'Engineering', 'L6', 'password', 'abc@gmail.com', 'ACTIVE', 0)\n",
      "('hr_hod', 'abc', 'def', 'HR', 'hod', 'password', 'abc@gmail.com', 'ACTIVE', 0)\n",
      "('hr_l1', 'abc', 'def', 'HR', 'L1', 'password', 'abc@gmail.com', 'ACTIVE', 0)\n",
      "('hr_l2', 'abc', 'def', 'HR', 'L2', 'password', 'abc@gmail.com', 'ACTIVE', 0)\n",
      "('hr_l3', 'abc', 'def', 'HR', 'L3', 'password', 'abc@gmail.com', 'ACTIVE', 0)\n",
      "('hr_l4', 'abc', 'def', 'HR', 'L4', 'password', 'abc@gmail.com', 'ACTIVE', 0)\n",
      "('hr_l5', 'abc', 'def', 'HR', 'L5', 'password', 'abc@gmail.com', 'ACTIVE', 0)\n",
      "('hr_l6', 'abc', 'def', 'HR', 'L6', 'password', 'abc@gmail.com', 'ACTIVE', 0)\n",
      "('production_hod', 'abc', 'def', 'Production', 'hod', 'password', 'abc@gmail.com', 'ACTIVE', 0)\n",
      "('production_l1', 'abc', 'def', 'Production', 'L1', 'password', 'abc@gmail.com', 'ACTIVE', 0)\n",
      "('production_l2', 'abc', 'def', 'Production', 'L2', 'password', 'abc@gmail.com', 'ACTIVE', 0)\n",
      "('production_l3', 'abc', 'def', 'Production', 'L3', 'password', 'abc@gmail.com', 'ACTIVE', 0)\n",
      "('production_l4', 'abc', 'def', 'Production', 'L4', 'password', 'abc@gmail.com', 'ACTIVE', 0)\n",
      "('production_l5', 'abc', 'def', 'Production', 'L5', 'password', 'abc@gmail.com', 'ACTIVE', 0)\n",
      "('production_l6', 'abc', 'def', 'Production', 'L6', 'password', 'abc@gmail.com', 'ACTIVE', 0)\n",
      "('qa_hod', 'abc', 'def', 'QA', 'hod', 'password', 'abc@gmail.com', 'ACTIVE', 0)\n",
      "('qa_l1', 'abc', 'def', 'QA', 'L1', 'password', 'abc@gmail.com', 'ACTIVE', 0)\n",
      "('qa_l2', 'abc', 'def', 'QA', 'L2', 'password', 'abc@gmail.com', 'ACTIVE', 0)\n",
      "('qa_l3', 'abc', 'def', 'QA', 'L3', 'password', 'abc@gmail.com', 'ACTIVE', 0)\n",
      "('qa_l4', 'abc', 'def', 'QA', 'L4', 'password', 'abc@gmail.com', 'ACTIVE', 0)\n",
      "('qa_l5', 'abc', 'def', 'QA', 'L5', 'password', 'abc@gmail.com', 'ACTIVE', 0)\n",
      "('qa_l6', 'abc', 'def', 'QA', 'L6', 'password', 'abc@gmail.com', 'ACTIVE', 0)\n",
      "('qc_hod', 'abc', 'def', 'QC', 'hod', 'password', 'abc@gmail.com', 'ACTIVE', 0)\n",
      "('qc_l1', 'abc', 'def', 'QC', 'L1', 'password', 'abc@gmail.com', 'ACTIVE', 0)\n",
      "('qc_l2', 'abc', 'def', 'QC', 'L2', 'password', 'abc@gmail.com', 'ACTIVE', 0)\n",
      "('qc_l3', 'abc', 'def', 'QC', 'L3', 'password', 'abc@gmail.com', 'ACTIVE', 0)\n",
      "('qc_l4', 'abc', 'def', 'QC', 'L4', 'password', 'abc@gmail.com', 'ACTIVE', 0)\n",
      "('qc_l5', 'abc', 'def', 'QC', 'L5', 'password', 'abc@gmail.com', 'ACTIVE', 0)\n",
      "('qc_l6', 'abc', 'def', 'QC', 'L6', 'password', 'abc@gmail.com', 'ACTIVE', 0)\n",
      "('store_hod', 'abc', 'def', 'Store', 'hod', 'password', 'abc@gmail.com', 'ACTIVE', 0)\n",
      "('store_l1', 'abc', 'def', 'Store', 'L1', 'password', 'abc@gmail.com', 'ACTIVE', 0)\n",
      "('store_l2', 'abc', 'def', 'Store', 'L2', 'password', 'abc@gmail.com', 'ACTIVE', 0)\n",
      "('store_l3', 'abc', 'def', 'Store', 'L3', 'password', 'abc@gmail.com', 'ACTIVE', 0)\n",
      "('store_l4', 'abc', 'def', 'Store', 'L4', 'password', 'abc@gmail.com', 'ACTIVE', 0)\n",
      "('store_l5', 'abc', 'def', 'Store', 'L5', 'password', 'abc@gmail.com', 'ACTIVE', 0)\n",
      "('store_l6', 'abc', 'def', 'Store', 'L6', 'password', 'abc@gmail.com', 'ACTIVE', 0)\n"
     ]
    }
   ],
   "source": [
    "conn = mysql.connector.connect(**config)\n",
    "cursor = conn.cursor()\n",
    "cursor.execute(\"select * from ccndb.USERS\")\n",
    "\n",
    "for row in cursor:\n",
    "    print(row)"
   ]
  },
  {
   "cell_type": "code",
   "execution_count": null,
   "id": "84490486",
   "metadata": {},
   "outputs": [],
   "source": []
  },
  {
   "cell_type": "code",
   "execution_count": 43,
   "id": "b9e70aff",
   "metadata": {},
   "outputs": [],
   "source": [
    "conn   = mysql.connector.connect(**config)\n",
    "cursor = conn.cursor()\n",
    "\n",
    "\n",
    "cursor.execute(\"\"\"\n",
    " CREATE TABLE ccndb.change_control_master (\n",
    "    Application_id INT NOT NULL AUTO_INCREMENT,\n",
    "    Area_of_Change VARCHAR(255) NOT NULL,\n",
    "    Affects_Initiator_Department VARCHAR(255) NOT NULL,\n",
    "    Change_Description VARCHAR(255) NOT NULL,\n",
    "    Existing_Status VARCHAR(255) NOT NULL,\n",
    "    Proposed_Change VARCHAR(255) NOT NULL,\n",
    "    Change_Reason VARCHAR(255) NOT NULL,\n",
    "    Application_Status VARCHAR(255) NOT NULL DEFAULT 'Initiated',\n",
    "    Change_Control_id VARCHAR(255) NOT NULL DEFAULT '',\n",
    "    PRIMARY KEY (Application_id)\n",
    ") AUTO_INCREMENT=100\n",
    "\"\"\")\n",
    "conn.commit()"
   ]
  },
  {
   "cell_type": "code",
   "execution_count": 44,
   "metadata": {},
   "outputs": [],
   "source": [
    "INSERT_CHANGE_CONTROL_QUERY = \"\"\"INSERT INTO ccndb.change_control_master (\n",
    "    Area_of_Change, Affects_Initiator_Department, Change_Description, Existing_Status, \n",
    "    Proposed_Change, Change_Reason, Application_Status, Change_Control_id\n",
    ") VALUES ('{}', '{}', '{}', '{}', '{}', '{}', '{}', '{}')\"\"\".format(\n",
    "    'Sample Area', 'Sample Department', 'Sample Description', \n",
    "    'Sample Existing Status', 'Sample Proposed Change', 'Sample Change Reason', 'Initiated', ''\n",
    ")\n",
    "conn = mysql.connector.connect(**config)\n",
    "cursor = conn.cursor()\n",
    "cursor.execute(INSERT_CHANGE_CONTROL_QUERY)\n",
    "conn.commit()\n"
   ]
  },
  {
   "cell_type": "code",
   "execution_count": 48,
   "id": "6bc80231",
   "metadata": {},
   "outputs": [
    {
     "name": "stdout",
     "output_type": "stream",
     "text": [
      "(100, 'Sample Area', 'Sample Department', 'Sample Description', 'Sample Existing Status', 'Sample Proposed Change', 'Sample Change Reason', 'Initiated', '')\n",
      "(101, 'SOP', 'Admin', 'Test', 'Test', 'Test', 'Test', 'Initiated', '')\n"
     ]
    }
   ],
   "source": [
    "conn = mysql.connector.connect(**config)\n",
    "cursor = conn.cursor()\n",
    "cursor.execute(\"select * from ccndb.change_control_master\")\n",
    "\n",
    "for row in cursor:\n",
    "    print(row)"
   ]
  },
  {
   "cell_type": "code",
   "execution_count": 42,
   "metadata": {},
   "outputs": [],
   "source": [
    "# conn = mysql.connector.connect(**config)\n",
    "# cursor = conn.cursor()\n",
    "# cursor.execute(\"drop table ccndb.change_control_master\")\n",
    "# conn.commit()"
   ]
  },
  {
   "cell_type": "code",
   "execution_count": 46,
   "metadata": {},
   "outputs": [],
   "source": [
    "conn   = mysql.connector.connect(**config)\n",
    "cursor = conn.cursor()\n",
    "\n",
    "\n",
    "cursor.execute(\"\"\"\n",
    "CREATE TABLE ccndb.change_control_audit (\n",
    "    Audit_id INT NOT NULL AUTO_INCREMENT,\n",
    "    Application_id INT,\n",
    "    Status VARCHAR(255) NOT NULL,\n",
    "    Timestamp TIMESTAMP DEFAULT CURRENT_TIMESTAMP,\n",
    "    Username VARCHAR(255),\n",
    "    Department VARCHAR(255),\n",
    "    Level VARCHAR(255),\n",
    "    Remark VARCHAR(255),\n",
    "    PRIMARY KEY (Audit_id),\n",
    "    FOREIGN KEY (Application_id) REFERENCES ccndb.change_control_master(Application_id)\n",
    ")\n",
    "\"\"\")\n",
    "conn.commit()"
   ]
  },
  {
   "cell_type": "code",
   "execution_count": 50,
   "metadata": {},
   "outputs": [
    {
     "name": "stdout",
     "output_type": "stream",
     "text": [
      "(1, 101, 'Initiated', datetime.datetime(2023, 12, 6, 0, 26, 41), 'abc def', 'Production', 'hod', '')\n",
      "(2, 101, 'Initiated', datetime.datetime(2023, 12, 6, 0, 26, 41), 'abc def', 'QC', 'hod', '')\n",
      "(3, 101, 'Initiated', datetime.datetime(2023, 12, 6, 0, 26, 42), 'abc def', 'QA', 'hod', '')\n",
      "(4, 101, 'Initiated', datetime.datetime(2023, 12, 6, 0, 26, 42), 'abc def', 'Store', 'hod', '')\n",
      "(5, 101, 'Initiated', datetime.datetime(2023, 12, 6, 0, 26, 42), 'abc def', 'Engineering', 'hod', '')\n",
      "(6, 101, 'Initiated', datetime.datetime(2023, 12, 6, 0, 26, 42), 'abc def', 'HR', 'hod', '')\n",
      "(7, 101, 'Initiated', datetime.datetime(2023, 12, 6, 0, 26, 42), 'abc def', 'Admin', 'hod', '')\n"
     ]
    }
   ],
   "source": [
    "conn = mysql.connector.connect(**config)\n",
    "cursor = conn.cursor()\n",
    "cursor.execute(\"select * from ccndb.change_control_audit\")\n",
    "\n",
    "for row in cursor:\n",
    "    print(row)"
   ]
  }
 ],
 "metadata": {
  "kernelspec": {
   "display_name": "Python 3 (ipykernel)",
   "language": "python",
   "name": "python3"
  },
  "language_info": {
   "codemirror_mode": {
    "name": "ipython",
    "version": 3
   },
   "file_extension": ".py",
   "mimetype": "text/x-python",
   "name": "python",
   "nbconvert_exporter": "python",
   "pygments_lexer": "ipython3",
   "version": "3.8.0"
  }
 },
 "nbformat": 4,
 "nbformat_minor": 5
}
